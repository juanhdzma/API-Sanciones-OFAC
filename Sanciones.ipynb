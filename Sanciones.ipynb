{
 "cells": [
  {
   "cell_type": "code",
   "execution_count": 289,
   "metadata": {},
   "outputs": [],
   "source": [
    "# Importar Librerias\n",
    "import requests\n",
    "import pandas as pd\n",
    "from lxml import etree\n",
    "from openpyxl import load_workbook\n",
    "from openpyxl.utils import get_column_letter\n",
    "import urllib3\n",
    "urllib3.disable_warnings(urllib3.exceptions.InsecureRequestWarning)"
   ]
  },
  {
   "cell_type": "code",
   "execution_count": 290,
   "metadata": {},
   "outputs": [],
   "source": [
    "class CustomError(Exception):\n",
    "    pass"
   ]
  },
  {
   "cell_type": "code",
   "execution_count": 291,
   "metadata": {},
   "outputs": [],
   "source": [
    "URL_DATA = \"https://sanctionslistservice.ofac.treas.gov/changes/612\"\n",
    "NAMESPACE = {\"ns\": \"https://www.treasury.gov/ofac/DeltaFile/1.0\"}"
   ]
  },
  {
   "cell_type": "code",
   "execution_count": 292,
   "metadata": {},
   "outputs": [],
   "source": [
    "def fetch_data(url):\n",
    "    \"\"\"Solicita el contenido XML desde el servidor.\"\"\"\n",
    "    response = requests.get(url, verify=False)\n",
    "    if response.status_code == 200:\n",
    "        return response.content\n",
    "    else:\n",
    "        raise CustomError(\"Error al solicitar información del servidor\")\n",
    "    \n",
    "def parse_xml(content):\n",
    "    \"\"\"Parsea el contenido XML y devuelve el elemento raíz.\"\"\"\n",
    "    return etree.fromstring(content)"
   ]
  },
  {
   "cell_type": "code",
   "execution_count": 293,
   "metadata": {},
   "outputs": [
    {
     "name": "stderr",
     "output_type": "stream",
     "text": [
      "<>:22: SyntaxWarning: \"is not\" with 'str' literal. Did you mean \"!=\"?\n",
      "<>:22: SyntaxWarning: \"is not\" with 'str' literal. Did you mean \"!=\"?\n",
      "C:\\Users\\juanh\\AppData\\Local\\Temp\\ipykernel_5944\\126956726.py:22: SyntaxWarning: \"is not\" with 'str' literal. Did you mean \"!=\"?\n",
      "  if full_name is not \"N/A\":\n"
     ]
    }
   ],
   "source": [
    "def extract_publication_date(root):\n",
    "    \"\"\"Extrae la fecha de publicación del XML.\"\"\"\n",
    "    date_element = root.find(\"ns:publicationInfo/ns:datePublished\", NAMESPACE)\n",
    "    return date_element.text.split(\"T\")[0] if date_element is not None else \"unknown_date\"\n",
    "\n",
    "def extract_entity_data(entity):\n",
    "    \"\"\"Extrae la información de una entidad del XML.\"\"\"\n",
    "    action = entity.get(\"action\", \"N/A\")\n",
    "\n",
    "    alias_text = []\n",
    "    full_name_text = None\n",
    "\n",
    "    for name in entity.findall(\".//ns:name\", NAMESPACE):\n",
    "        alias_type = name.find(\"ns:aliasType\", NAMESPACE)  # Verificar si existe aliasType\n",
    "        full_name = name.find(\".//ns:translation[ns:script='Latin']/ns:formattedFullName\", NAMESPACE)\n",
    "        full_name = full_name.text if full_name is not None else \"N/A\"\n",
    "\n",
    "        # Si existe aliasType, lo consideramos un alias, si no, es el nombre principal\n",
    "        if alias_type is not None:\n",
    "            alias_text.append(full_name)\n",
    "        else:\n",
    "            if full_name is not \"N/A\":\n",
    "                full_name_text = full_name\n",
    "\n",
    "    print(alias_text)\n",
    "    identity_doc = entity.find(\"ns:identityDocuments/ns:identityDocument\", NAMESPACE)\n",
    "    if identity_doc is not None:\n",
    "        doc_type = identity_doc.find(\"ns:type\", NAMESPACE)\n",
    "        doc_type_text = doc_type.text if doc_type is not None else \"N/A\"\n",
    "\n",
    "        doc_id = identity_doc.find(\"ns:documentNumber\", NAMESPACE)\n",
    "        doc_id_text = doc_id.text if doc_id is not None else \"N/A\"\n",
    "    else:\n",
    "        doc_type_text = \"N/A\"\n",
    "        doc_id_text = \"N/A\"\n",
    "\n",
    "    return {\n",
    "        \"Nombre Completo\": full_name_text,\n",
    "        \"Tipo de Documento\": doc_type_text,\n",
    "        \"ID de Documento\": doc_id_text,\n",
    "        \"Acción\": action,\n",
    "        \"Alias\": alias_text,\n",
    "    }"
   ]
  },
  {
   "cell_type": "code",
   "execution_count": 294,
   "metadata": {},
   "outputs": [],
   "source": [
    "def transform_data(content):\n",
    "    \"\"\"Transforma el XML en un DataFrame.\"\"\"\n",
    "    root = parse_xml(content)\n",
    "    entities = root.findall(\"ns:entities/ns:entity\", NAMESPACE)\n",
    "    data = [extract_entity_data(entity) for entity in entities]\n",
    "    return pd.DataFrame(data), extract_publication_date(root)+\"Prueba\""
   ]
  },
  {
   "cell_type": "code",
   "execution_count": 295,
   "metadata": {},
   "outputs": [],
   "source": [
    "def save_to_excel(df, filename):\n",
    "    \"\"\"Guarda el DataFrame en un archivo Excel y ajusta el ancho de las columnas.\"\"\"\n",
    "    df.to_excel(filename, index=False)\n",
    "\n",
    "    wb = load_workbook(filename)\n",
    "    ws = wb.active\n",
    "\n",
    "    for col in ws.columns:\n",
    "        max_length = 0\n",
    "        col_letter = get_column_letter(col[0].column)\n",
    "\n",
    "        for cell in col:\n",
    "            try:\n",
    "                if cell.value:\n",
    "                    max_length = max(max_length, len(str(cell.value)))\n",
    "            except:\n",
    "                pass\n",
    "\n",
    "        adjusted_width = max_length + 2\n",
    "        ws.column_dimensions[col_letter].width = adjusted_width\n",
    "\n",
    "    wb.save(filename)"
   ]
  },
  {
   "cell_type": "code",
   "execution_count": 296,
   "metadata": {},
   "outputs": [
    {
     "name": "stdout",
     "output_type": "stream",
     "text": [
      "[]\n",
      "['MISHIN, Aleksandr Igorvich', 'PIPPIN, James', 'KLICHKO, Ivan P', 'TRIPLEX560', 'ALEX560560', 'JAMES1789', 'SASHA-BRN']\n",
      "[\"SERGEEVICH, Aleksandr Bol'shakov\", 'WTLFNT', 'AAELBAS']\n",
      "Archivo guardado como: 2025-02-11Prueba.xlsx\n"
     ]
    }
   ],
   "source": [
    "def main():\n",
    "    \"\"\"Función principal que ejecuta el proceso completo.\"\"\"\n",
    "    try:\n",
    "        content = fetch_data(URL_DATA)\n",
    "        df, pub_date = transform_data(content)\n",
    "\n",
    "        filename = f\"{pub_date}.xlsx\"\n",
    "        save_to_excel(df, filename)\n",
    "\n",
    "        print(f\"Archivo guardado como: {filename}\")\n",
    "\n",
    "    except CustomError as e:\n",
    "        print(f\"Error: {e}\")\n",
    "\n",
    "if __name__ == \"__main__\":\n",
    "    main()"
   ]
  }
 ],
 "metadata": {
  "kernelspec": {
   "display_name": "Sandbox",
   "language": "python",
   "name": "python3"
  },
  "language_info": {
   "codemirror_mode": {
    "name": "ipython",
    "version": 3
   },
   "file_extension": ".py",
   "mimetype": "text/x-python",
   "name": "python",
   "nbconvert_exporter": "python",
   "pygments_lexer": "ipython3",
   "version": "3.12.9"
  }
 },
 "nbformat": 4,
 "nbformat_minor": 2
}
