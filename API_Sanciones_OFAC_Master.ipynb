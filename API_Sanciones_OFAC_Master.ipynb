{
 "cells": [
  {
   "cell_type": "code",
   "execution_count": 29,
   "metadata": {},
   "outputs": [],
   "source": [
    "import requests\n",
    "import pandas as pd\n",
    "from lxml import etree\n",
    "from openpyxl import load_workbook\n",
    "from openpyxl.utils import get_column_letter\n",
    "import urllib3\n",
    "import re\n",
    "\n",
    "urllib3.disable_warnings(urllib3.exceptions.InsecureRequestWarning)"
   ]
  },
  {
   "cell_type": "code",
   "execution_count": 30,
   "metadata": {},
   "outputs": [],
   "source": [
    "class CustomError(Exception):\n",
    "    pass"
   ]
  },
  {
   "cell_type": "code",
   "execution_count": 31,
   "metadata": {},
   "outputs": [],
   "source": [
    "URL_DATA = 'https://sanctionslistservice.ofac.treas.gov/changes/latest'\n",
    "NAMESPACE = {'ns': 'https://www.treasury.gov/ofac/DeltaFile/1.0'}"
   ]
  },
  {
   "cell_type": "code",
   "execution_count": 32,
   "metadata": {},
   "outputs": [],
   "source": [
    "def fetch_data():\n",
    "    '''Solicita el contenido XML desde el servidor'''\n",
    "    try:\n",
    "        response = requests.get(URL_DATA, verify=False)\n",
    "        return response.content\n",
    "    except requests.exceptions.RequestException as e:\n",
    "        raise CustomError(f'Error al solicitar el contenido: {e}')\n",
    "    \n",
    "def parse_xml(content):\n",
    "    '''Parsea el contenido XML y devuelve el elemento raiz'''\n",
    "    return etree.fromstring(content)"
   ]
  },
  {
   "cell_type": "code",
   "execution_count": 33,
   "metadata": {},
   "outputs": [],
   "source": [
    "def extract_publication_date(root):\n",
    "    '''Extrae la fecha de publicación del XML'''\n",
    "    date_element = root.find('ns:publicationInfo/ns:datePublished', NAMESPACE)\n",
    "    return date_element.text.split(\"T\")[0] if date_element is not None else \"Fecha_no_disponible\"\n",
    "\n",
    "def is_only_number(text):\n",
    "    '''Verifica si el texto contiene solo números'''\n",
    "    return bool(re.fullmatch(r'\\d+', text))\n",
    "\n",
    "def extract_entity_data(entity):\n",
    "    '''Extrae la informacion de una entiendad XML'''\n",
    "    action = entity.get(\"action\", \"N/A\")\n",
    "    \n",
    "    alias_text = []\n",
    "    full_name_text = \"N/A\"\n",
    "\n",
    "    for name in entity.findall(\".//ns:name\", NAMESPACE):\n",
    "        alias_type = name.find(\"ns:aliasType\", NAMESPACE)\n",
    "        full_name = name.find(\".//ns:translation[ns:script='Latin']/ns:formattedFullName\", NAMESPACE)\n",
    "        full_name = full_name.text if full_name is not None else \"N/A\"\n",
    "\n",
    "        if alias_type != None:\n",
    "            alias_text.append(full_name)\n",
    "        else:\n",
    "            if full_name_text == \"N/A\":\n",
    "                full_name_text = full_name\n",
    "\n",
    "    doc_text = []\n",
    "    for doc in entity.findall(\"ns:identityDocuments/ns:identityDocument\", NAMESPACE):\n",
    "        if doc is not None:\n",
    "            doc_type = doc.find(\"ns:type\", NAMESPACE)\n",
    "            doc_type_text = doc_type.text if doc_type is not None else \"N/A\"\n",
    "\n",
    "            doc_number = doc.find(\"ns:documentNumber\", NAMESPACE)\n",
    "            doc_number_text = doc_number.text if doc_number is not None else \"N/A\"\n",
    "\n",
    "            issuing_country = doc.find(\"ns:issuingCountry\", NAMESPACE)\n",
    "            issuing_country_text = issuing_country.text if issuing_country is not None else \"N/A\"\n",
    "\n",
    "            if issuing_country_text == \"Colombia\":\n",
    "                if doc_type_text == \"Cedula No.\":\n",
    "                    doc_text.append(f\"CC {doc_number_text}\")\n",
    "                elif doc_type_text == \"NIT #\":\n",
    "                    doc_text.append(f\"NIT {doc_number_text}\")\n",
    "            elif doc_type_text == \"Passport\":\n",
    "                if is_only_number(doc_number_text):\n",
    "                    doc_text.append(f\"PAS {doc_number_text}\")\n",
    "                else:\n",
    "                    doc_text.append(f\"{doc_type_text} {doc_number_text}\")\n",
    "            else:\n",
    "                doc_text.append(f\"{doc_type_text} {doc_number_text}\")\n",
    "        else:\n",
    "            doc_text.append(\"N/A\")\n",
    "    return {\n",
    "        'Nombre Completo': full_name_text,\n",
    "        'Documentos': doc_text,\n",
    "        'Alias': alias_text,\n",
    "        'Accion': action,\n",
    "    }"
   ]
  },
  {
   "cell_type": "code",
   "execution_count": 34,
   "metadata": {},
   "outputs": [],
   "source": [
    "def transform_data(content):\n",
    "    '''Transforma el XML en un DataFrame, retorna el DataFrame y la fecha de publicación'''\n",
    "    root = parse_xml(content)\n",
    "    entities = root.findall('ns:entities/ns:entity', NAMESPACE)\n",
    "    data = [extract_entity_data(entity) for entity in entities]\n",
    "    return pd.DataFrame(data), extract_publication_date(root)"
   ]
  },
  {
   "cell_type": "code",
   "execution_count": 35,
   "metadata": {},
   "outputs": [],
   "source": [
    "def save_to_excel(df, filename):\n",
    "    '''Guarda el DataFrame en un archivo Excel y ajusta el ancho de las columnas'''\n",
    "    df.to_excel(filename, index=False)\n",
    "    wb = load_workbook(filename)\n",
    "    ws = wb.active\n",
    "\n",
    "    for col in ws.columns:\n",
    "        max_length = 0\n",
    "        col_letter = get_column_letter(col[0].column)\n",
    "\n",
    "        for cell in col:\n",
    "            try:\n",
    "                if cell.value:\n",
    "                    max_length = max(max_length, len(str(cell.value)))\n",
    "            except:\n",
    "                pass\n",
    "        adjusted_width = (max_length + 2)\n",
    "        ws.column_dimensions[col_letter].width = adjusted_width\n",
    "        \n",
    "    wb.save(filename)"
   ]
  },
  {
   "cell_type": "code",
   "execution_count": 36,
   "metadata": {},
   "outputs": [
    {
     "name": "stdout",
     "output_type": "stream",
     "text": [
      "Archivo guardado: OFAC_2025-02-26.xlsx\n"
     ]
    }
   ],
   "source": [
    "def main():\n",
    "    '''Funcion principal quen ejecuta el proceso completo'''\n",
    "    try:\n",
    "        content = fetch_data()\n",
    "        df, pub_date = transform_data(content)\n",
    "\n",
    "        filename = f'OFAC_{pub_date}.xlsx'\n",
    "        save_to_excel(df, filename)\n",
    "        print(f'Archivo guardado: {filename}')\n",
    "    except CustomError as e:\n",
    "        print(f'Error: {e}')\n",
    "\n",
    "if __name__ == '__main__':\n",
    "    main()"
   ]
  }
 ],
 "metadata": {
  "kernelspec": {
   "display_name": "Sandbox",
   "language": "python",
   "name": "python3"
  },
  "language_info": {
   "codemirror_mode": {
    "name": "ipython",
    "version": 3
   },
   "file_extension": ".py",
   "mimetype": "text/x-python",
   "name": "python",
   "nbconvert_exporter": "python",
   "pygments_lexer": "ipython3",
   "version": "3.12.9"
  }
 },
 "nbformat": 4,
 "nbformat_minor": 2
}
